{
  "nbformat": 4,
  "nbformat_minor": 0,
  "metadata": {
    "colab": {
      "provenance": [],
      "authorship_tag": "ABX9TyMIZIdMpVNR7hBXnDLN02fn",
      "include_colab_link": true
    },
    "kernelspec": {
      "name": "python3",
      "display_name": "Python 3"
    },
    "language_info": {
      "name": "python"
    }
  },
  "cells": [
    {
      "cell_type": "markdown",
      "metadata": {
        "id": "view-in-github",
        "colab_type": "text"
      },
      "source": [
        "<a href=\"https://colab.research.google.com/github/Niroth36/Convolutional_Neural_Networks_CRCslides_dataset/blob/main/CRC_slides_cnn.ipynb\" target=\"_parent\"><img src=\"https://colab.research.google.com/assets/colab-badge.svg\" alt=\"Open In Colab\"/></a>"
      ]
    },
    {
      "cell_type": "markdown",
      "source": [
        "## Importing the libraries we need"
      ],
      "metadata": {
        "id": "U_0mJJyFcZw1"
      }
    },
    {
      "cell_type": "code",
      "source": [
        "import numpy as np\n",
        "import pandas as pd\n",
        "import matplotlib.pyplot as plt\n",
        "import tensorflow as tf\n",
        "from tensorflow import keras\n",
        "import seaborn as sns"
      ],
      "metadata": {
        "id": "Cu93xjnzcZEl"
      },
      "execution_count": 1,
      "outputs": []
    },
    {
      "cell_type": "markdown",
      "source": [
        "## Mounting drive to use CRC_slides dataset"
      ],
      "metadata": {
        "id": "rvZsMaWzdWnT"
      }
    },
    {
      "cell_type": "code",
      "execution_count": null,
      "metadata": {
        "id": "JSP3jgg0Y8r2"
      },
      "outputs": [],
      "source": [
        "from google.colab import drive\n",
        "drive.mount('/content/drive')\n",
        "!cp '/content/drive/MyDrive/datasets/CRC_slides.tar.gz' .\n",
        "!tar -xvzf 'CRC_slides.tar.gz'\n",
        "data_dir = '/content/CRC_slides'"
      ]
    },
    {
      "cell_type": "markdown",
      "source": [
        "Count the number of all the photos in the dataset"
      ],
      "metadata": {
        "id": "uv64dplRlW9G"
      }
    },
    {
      "cell_type": "code",
      "source": [
        "from pathlib import Path\n",
        "data_dir = Path('/content/CRC_slides')\n",
        "image_count = len(list(data_dir.glob('*/*.png')))\n",
        "print(image_count)"
      ],
      "metadata": {
        "id": "pSvxa8MpiY0O",
        "outputId": "cf8c6b19-3940-439e-89c0-38fe6fd89d44",
        "colab": {
          "base_uri": "https://localhost:8080/"
        }
      },
      "execution_count": 15,
      "outputs": [
        {
          "output_type": "stream",
          "name": "stdout",
          "text": [
            "7180\n"
          ]
        }
      ]
    },
    {
      "cell_type": "markdown",
      "source": [
        "## Develop load_dataset function"
      ],
      "metadata": {
        "id": "UZmVBqCBukCe"
      }
    },
    {
      "cell_type": "code",
      "source": [
        "def load_dataset(data_dir, train_pct=0.6, val_pct=0.2, test_pct=0.2, batch_size=64, img_size=(224, 224)):\n",
        "  # Create train set\n",
        "  train_ds = tf.keras.utils.image_dataset_from_directory(data_dir, validation_split=val_pct+test_pct, color_mode='rgb', subset=\"training\",\n",
        "                                                         seed=123, image_size=img_size, batch_size=batch_size)\n",
        "  # Create test set\n",
        "  val_ds = tf.keras.utils.image_dataset_from_directory(data_dir, validation_split=val_pct+test_pct, subset=\"validation\", color_mode='rgb',\n",
        "                                                       seed=123, image_size=img_size, batch_size=batch_size)\n",
        "  # Split batches of validation test set into test set and the rest in the validation set\n",
        "  val_batches = tf.data.experimental.cardinality(val_ds)\n",
        "  test_ds = val_ds.take(val_batches // 2)\n",
        "  val_ds = val_ds.skip(val_batches // 2)\n",
        "  # Create development set from concatenating training set and validation set, without using test set\n",
        "  devel_ds = tf.data.Dataset.concatenate(train_ds, val_ds)\n",
        "  # Finding class names from the class_names attribute on these datasets\n",
        "  class_names = train_ds.class_names\n",
        "\n",
        "  return devel_ds, train_ds, val_ds, test_ds, class_names"
      ],
      "metadata": {
        "id": "0AD1Q7YElcQj"
      },
      "execution_count": 20,
      "outputs": []
    },
    {
      "cell_type": "code",
      "source": [
        "devel_ds, train_ds, val_ds, test_ds, classes = load_dataset(data_dir)"
      ],
      "metadata": {
        "id": "v_7kooO0gh1T",
        "outputId": "0c55c85a-adcc-46f3-afc1-78ad50b50cf6",
        "colab": {
          "base_uri": "https://localhost:8080/"
        }
      },
      "execution_count": 21,
      "outputs": [
        {
          "output_type": "stream",
          "name": "stdout",
          "text": [
            "Found 7180 files belonging to 9 classes.\n",
            "Using 4308 files for training.\n",
            "Found 7180 files belonging to 9 classes.\n",
            "Using 2872 files for validation.\n"
          ]
        }
      ]
    },
    {
      "cell_type": "code",
      "source": [
        "y = np.concatenate([y for x, y in devel_ds])\n",
        "plt.hist(y, list(range(len(classes) + 1)))\n",
        "plt.show()"
      ],
      "metadata": {
        "id": "y10KalTneDmJ",
        "outputId": "49aedd02-6005-4297-9f89-3ab0ea4a30ca",
        "colab": {
          "base_uri": "https://localhost:8080/",
          "height": 265
        }
      },
      "execution_count": 22,
      "outputs": [
        {
          "output_type": "display_data",
          "data": {
            "text/plain": [
              "<Figure size 432x288 with 1 Axes>"
            ],
            "image/png": "[encoded data removed]"
          },
          "metadata": {
            "needs_background": "light"
          }
        }
      ]
    }
  ]
}